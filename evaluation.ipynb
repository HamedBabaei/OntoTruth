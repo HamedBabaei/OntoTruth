{
 "cells": [
  {
   "cell_type": "code",
   "execution_count": 2,
   "id": "47827557-4916-4195-a4be-c367a2bf184d",
   "metadata": {},
   "outputs": [],
   "source": [
    "import json\n",
    "import os\n",
    "import pandas as pd\n",
    "\n",
    "\n",
    "with open('AI-Judger.json', 'r') as f:\n",
    "    golds = json.load(f)\n",
    "    \n",
    "# flaw_q = [14, 15, 17, 44, 47, 48, 49, 50, 58]\n",
    "# if gold['Q#'] not in flaw_q\n",
    "\n",
    "gold_id2ans = {gold['Q#']: gold['agreement']['answer'] for gold in golds }\n",
    "\n",
    "root = \"results/60-qs\"\n",
    "# responses_paths = [f\"{root}/{file}\" for file in os.listdir(root) if \".csv\" in file]\n",
    "\n",
    "dfs = {file[:-4]: pd.read_csv(f\"{root}/{file}\") for file in os.listdir(root) if \".csv\" in file}"
   ]
  },
  {
   "cell_type": "code",
   "execution_count": 3,
   "id": "6084853d-04fc-4b26-982e-6e0af34eb77c",
   "metadata": {},
   "outputs": [
    {
     "data": {
      "text/plain": [
       "dict_keys(['Qwen2.5-0.5B-Instruct', 'Llama-3.3-70B-Instruct', 'Llama-3.1-8B-Instruct', 'Qwen2.5-72B-Instruct', 'Qwen2.5-7B-Instruct', 'Llama-3.2-1B-Instruct'])"
      ]
     },
     "execution_count": 3,
     "metadata": {},
     "output_type": "execute_result"
    }
   ],
   "source": [
    "dfs.keys()"
   ]
  },
  {
   "cell_type": "code",
   "execution_count": 4,
   "id": "be62b5c3-9e2b-4598-9751-cbae6ba7b843",
   "metadata": {},
   "outputs": [
    {
     "data": {
      "text/html": [
       "<div>\n",
       "<style scoped>\n",
       "    .dataframe tbody tr th:only-of-type {\n",
       "        vertical-align: middle;\n",
       "    }\n",
       "\n",
       "    .dataframe tbody tr th {\n",
       "        vertical-align: top;\n",
       "    }\n",
       "\n",
       "    .dataframe thead th {\n",
       "        text-align: right;\n",
       "    }\n",
       "</style>\n",
       "<table border=\"1\" class=\"dataframe\">\n",
       "  <thead>\n",
       "    <tr style=\"text-align: right;\">\n",
       "      <th></th>\n",
       "      <th>id</th>\n",
       "      <th>question</th>\n",
       "      <th>category</th>\n",
       "      <th>standard-answer</th>\n",
       "      <th>standard-eval</th>\n",
       "      <th>domain-answer</th>\n",
       "      <th>domain-eval</th>\n",
       "      <th>rdf-onto-answer</th>\n",
       "      <th>rdf-onto-eval</th>\n",
       "      <th>omn-onto-answer</th>\n",
       "      <th>omn-onto-eval</th>\n",
       "      <th>ofn-onto-answer</th>\n",
       "      <th>ofn-onto-eval</th>\n",
       "      <th>ttl-onto-answer</th>\n",
       "      <th>ttl-onto-eval</th>\n",
       "    </tr>\n",
       "  </thead>\n",
       "  <tbody>\n",
       "    <tr>\n",
       "      <th>0</th>\n",
       "      <td>1</td>\n",
       "      <td>What are the common toppings of a Margherita P...</td>\n",
       "      <td>IND</td>\n",
       "      <td>A common topping of a Margherita pizza is toma...</td>\n",
       "      <td>1</td>\n",
       "      <td>The common toppings of a Margherita Pizza incl...</td>\n",
       "      <td>1</td>\n",
       "      <td>Provide a description from a Margherita Pizza\\...</td>\n",
       "      <td>1</td>\n",
       "      <td># owl 的 1,3\\n        # owl, 3\\n       ...</td>\n",
       "      <td>1</td>\n",
       "      <td>Tiffany's pizza is a popular choice due to its...</td>\n",
       "      <td>1</td>\n",
       "      <td>The following are examples of : SpicyPizza, : ...</td>\n",
       "      <td>1</td>\n",
       "    </tr>\n",
       "    <tr>\n",
       "      <th>1</th>\n",
       "      <td>2</td>\n",
       "      <td>Is a FourCheesePizza considered a VegetarianPi...</td>\n",
       "      <td>SUB</td>\n",
       "      <td>No, a FourCheesePizza is not considered a Vege...</td>\n",
       "      <td>1</td>\n",
       "      <td>No, a FourCheesePizza is not considered a vege...</td>\n",
       "      <td>1</td>\n",
       "      <td>Is a FourCheesePizza considered a VegetarianPi...</td>\n",
       "      <td>1</td>\n",
       "      <td>T-shirt, a pair of scissors&amp;t-shirt\\n\\n# 咖啡豆, ...</td>\n",
       "      <td>1</td>\n",
       "      <td>No, it is not a vegetarian or vegan pizza. It ...</td>\n",
       "      <td>1</td>\n",
       "      <td>OK,`:` ; ` `; ` ; ` ; ` ; ` ; ` ; ` ; ` ; ` ; ...</td>\n",
       "      <td>1</td>\n",
       "    </tr>\n",
       "    <tr>\n",
       "      <th>2</th>\n",
       "      <td>3</td>\n",
       "      <td>What toppings make a pizza classified as a Hot...</td>\n",
       "      <td>SUB</td>\n",
       "      <td>A hot and spicy pizza typically has several to...</td>\n",
       "      <td>1</td>\n",
       "      <td>A hot and spicy pizza is typically made with:\\...</td>\n",
       "      <td>1</td>\n",
       "      <td>Provide a pizza classified as a HighAndSpicyPi...</td>\n",
       "      <td>1</td>\n",
       "      <td>&lt;Twitter问题的表达方式为：\"在中文，we recommend you read th...</td>\n",
       "      <td>1</td>\n",
       "      <td>Any food or drink that does not contain any se...</td>\n",
       "      <td>1</td>\n",
       "      <td>:VegetarianTopping, :MozhTopping, :Tomahping, ...</td>\n",
       "      <td>1</td>\n",
       "    </tr>\n",
       "  </tbody>\n",
       "</table>\n",
       "</div>"
      ],
      "text/plain": [
       "   id                                           question category  \\\n",
       "0   1  What are the common toppings of a Margherita P...      IND   \n",
       "1   2  Is a FourCheesePizza considered a VegetarianPi...      SUB   \n",
       "2   3  What toppings make a pizza classified as a Hot...      SUB   \n",
       "\n",
       "                                     standard-answer  standard-eval  \\\n",
       "0  A common topping of a Margherita pizza is toma...              1   \n",
       "1  No, a FourCheesePizza is not considered a Vege...              1   \n",
       "2  A hot and spicy pizza typically has several to...              1   \n",
       "\n",
       "                                       domain-answer  domain-eval  \\\n",
       "0  The common toppings of a Margherita Pizza incl...            1   \n",
       "1  No, a FourCheesePizza is not considered a vege...            1   \n",
       "2  A hot and spicy pizza is typically made with:\\...            1   \n",
       "\n",
       "                                     rdf-onto-answer  rdf-onto-eval  \\\n",
       "0  Provide a description from a Margherita Pizza\\...              1   \n",
       "1  Is a FourCheesePizza considered a VegetarianPi...              1   \n",
       "2  Provide a pizza classified as a HighAndSpicyPi...              1   \n",
       "\n",
       "                                     omn-onto-answer  omn-onto-eval  \\\n",
       "0          # owl 的 1,3\\n        # owl, 3\\n       ...              1   \n",
       "1  T-shirt, a pair of scissors&t-shirt\\n\\n# 咖啡豆, ...              1   \n",
       "2  <Twitter问题的表达方式为：\"在中文，we recommend you read th...              1   \n",
       "\n",
       "                                     ofn-onto-answer  ofn-onto-eval  \\\n",
       "0  Tiffany's pizza is a popular choice due to its...              1   \n",
       "1  No, it is not a vegetarian or vegan pizza. It ...              1   \n",
       "2  Any food or drink that does not contain any se...              1   \n",
       "\n",
       "                                     ttl-onto-answer  ttl-onto-eval  \n",
       "0  The following are examples of : SpicyPizza, : ...              1  \n",
       "1  OK,`:` ; ` `; ` ; ` ; ` ; ` ; ` ; ` ; ` ; ` ; ...              1  \n",
       "2  :VegetarianTopping, :MozhTopping, :Tomahping, ...              1  "
      ]
     },
     "execution_count": 4,
     "metadata": {},
     "output_type": "execute_result"
    }
   ],
   "source": [
    "llm = 'Qwen2.5-0.5B-Instruct'\n",
    "\n",
    "dfs[llm].head(3)"
   ]
  },
  {
   "cell_type": "code",
   "execution_count": 22,
   "id": "3a2fc10a-747f-42cd-ae4c-9f1ddcf5d94b",
   "metadata": {},
   "outputs": [],
   "source": [
    "cols = {\n",
    "    \"standard-answer\": \"standard-eval\",\n",
    "    \"domain-answer\": \"domain-eval\",\n",
    "    \"rdf-onto-answer\": \"rdf-onto-eval\",\n",
    "    \"omn-onto-answer\": \"omn-onto-eval\",\n",
    "    \"ofn-onto-answer\": \"ofn-onto-eval\",\n",
    "    \"ttl-onto-answer\": \"ttl-onto-eval\"\n",
    "}"
   ]
  },
  {
   "cell_type": "code",
   "execution_count": 24,
   "id": "482647d1-7de9-4706-82c3-9e9e904ade4d",
   "metadata": {},
   "outputs": [],
   "source": [
    "from openai import OpenAI\n",
    "import config\n",
    "import numpy as np\n",
    "\n",
    "client = OpenAI(api_key=config.openai_token)\n",
    "\n",
    "def get_embedding(text, model='text-embedding-3-large'):\n",
    "    text = str(text)\n",
    "    return client.embeddings.create(input = [text], model=model).data[0].embedding\n"
   ]
  },
  {
   "cell_type": "code",
   "execution_count": 8,
   "id": "4d0941bb-ef52-441a-9d8f-ceb211f07f7a",
   "metadata": {},
   "outputs": [],
   "source": [
    "gols_embeddings = {gold_id: get_embedding(text=gold_ans) for gold_id, gold_ans in gold_id2ans.items()}"
   ]
  },
  {
   "cell_type": "code",
   "execution_count": 25,
   "id": "150ec20c-d1ab-4714-8f07-75f5e29d15e4",
   "metadata": {},
   "outputs": [
    {
     "name": "stdout",
     "output_type": "stream",
     "text": [
      "working on: omn-onto-answer\n",
      "\t working on: Qwen2.5-0.5B-Instruct\n",
      "\t working on: Llama-3.3-70B-Instruct\n",
      "\t working on: Llama-3.1-8B-Instruct\n",
      "\t working on: Qwen2.5-72B-Instruct\n",
      "\t working on: Qwen2.5-7B-Instruct\n",
      "\t working on: Llama-3.2-1B-Instruct\n",
      "working on: ofn-onto-answer\n",
      "\t working on: Qwen2.5-0.5B-Instruct\n",
      "\t working on: Llama-3.3-70B-Instruct\n",
      "\t working on: Llama-3.1-8B-Instruct\n",
      "\t working on: Qwen2.5-72B-Instruct\n",
      "\t working on: Qwen2.5-7B-Instruct\n",
      "\t working on: Llama-3.2-1B-Instruct\n",
      "working on: ttl-onto-answer\n",
      "\t working on: Qwen2.5-0.5B-Instruct\n",
      "\t working on: Llama-3.3-70B-Instruct\n",
      "\t working on: Llama-3.1-8B-Instruct\n",
      "\t working on: Qwen2.5-72B-Instruct\n",
      "\t working on: Qwen2.5-7B-Instruct\n",
      "\t working on: Llama-3.2-1B-Instruct\n"
     ]
    }
   ],
   "source": [
    "for response_col, eval_col in cols.items():\n",
    "    print(\"working on:\", response_col)\n",
    "    for llm, df in dfs.items():\n",
    "        print(\"\\t working on:\", llm)\n",
    "        embeddings = df[response_col].apply(lambda x: get_embedding(x, model='text-embedding-3-large'))\n",
    "        embeddings_np = np.array([embed for embed in embeddings])\n",
    "        gols_embeddings_np = np.array(list(gols_embeddings.values()))\n",
    "        A_norm = gols_embeddings_np / np.linalg.norm(gols_embeddings_np, axis=1, keepdims=True)\n",
    "        B_norm = embeddings_np / np.linalg.norm(embeddings_np, axis=1, keepdims=True)\n",
    "        cosine_similarities = np.sum(A_norm * B_norm, axis=1)\n",
    "        dfs[llm][eval_col] = list(cosine_similarities)"
   ]
  },
  {
   "cell_type": "code",
   "execution_count": 26,
   "id": "03adc32f-eaf0-488a-88ca-0865cff3f4f9",
   "metadata": {},
   "outputs": [],
   "source": [
    "for llm, df in dfs.items():\n",
    "    df.to_csv(f\"results/{llm}-evaluated.csv\", index=False)"
   ]
  },
  {
   "cell_type": "code",
   "execution_count": null,
   "id": "6458c58d-b141-4ced-ad84-dfe65932bd08",
   "metadata": {},
   "outputs": [],
   "source": []
  }
 ],
 "metadata": {
  "kernelspec": {
   "display_name": "Python 3 (ipykernel)",
   "language": "python",
   "name": "python3"
  },
  "language_info": {
   "codemirror_mode": {
    "name": "ipython",
    "version": 3
   },
   "file_extension": ".py",
   "mimetype": "text/x-python",
   "name": "python",
   "nbconvert_exporter": "python",
   "pygments_lexer": "ipython3",
   "version": "3.9.16"
  }
 },
 "nbformat": 4,
 "nbformat_minor": 5
}
